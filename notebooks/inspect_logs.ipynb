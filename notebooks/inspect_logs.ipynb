{
 "cells": [
  {
   "cell_type": "code",
   "execution_count": null,
   "metadata": {},
   "outputs": [],
   "source": [
    "import numpy as np\n",
    "import os\n",
    "import pandas as pd\n",
    "\n",
    "from pathlib import Path\n",
    "\n",
    "import matplotlib.pyplot as plt"
   ]
  },
  {
   "cell_type": "code",
   "execution_count": null,
   "metadata": {},
   "outputs": [],
   "source": [
    "log_dir = Path(\"../motor_logs/\")\n",
    "day_path = log_dir / \"December_11\"\n",
    "\n",
    "for file in os.listdir(day_path):\n",
    "    if file.endswith(\".csv\"):\n",
    "        file_path = day_path / file\n",
    "        with open(file_path, 'r') as f:\n",
    "            lines = f.readlines()\n",
    "            if len(lines) == 1 and lines[0].strip() == 'time,position,velocity,torque':\n",
    "                os.remove(file_path)\n",
    "\n",
    "sorted_paths = sorted(os.listdir(day_path), key=lambda x: x.split(\"_\")[3], reverse=True)\n",
    "\n",
    "for path in sorted_paths:\n",
    "    print(path)\n"
   ]
  },
  {
   "cell_type": "code",
   "execution_count": null,
   "metadata": {},
   "outputs": [],
   "source": [
    "test_time_1 = \"sit_to_stand_12-11-11-12-46.csv\"\n",
    "task_df = \"sit_to_stand_12-11-11-57-18.csv\"\n",
    "test_time_2 = test_time_1\n",
    "# test_time_2 = \"measure_arm_pose_12-07-09-49-57.csv\"\n",
    "\n",
    "base_motor_log = day_path / f\"AK70-10_{test_time_1}\"\n",
    "elbow_motor_log = day_path / f\"AK60-6_{test_time_2}\"\n",
    "task_log = day_path / task_df"
   ]
  },
  {
   "cell_type": "code",
   "execution_count": null,
   "metadata": {},
   "outputs": [],
   "source": [
    "base_motor_df = pd.read_csv(base_motor_log, index_col='time')\n",
    "elbow_motor_df = pd.read_csv(elbow_motor_log, index_col='time')\n",
    "task_df = pd.read_csv(task_log, index_col='time')"
   ]
  },
  {
   "cell_type": "code",
   "execution_count": null,
   "metadata": {},
   "outputs": [],
   "source": [
    "fig, ax = plt.subplots(3, 1, sharex=True, figsize=(10, 10))\n",
    "ax[0].plot(task_df.index[50:], -task_df[\"EE_X\"].iloc[50:], label=\"hip height\")\n",
    "ax[0].grid()\n",
    "ax[0].legend()\n",
    "ax[0].set_ylabel(\"hip height (m)\")\n",
    "\n",
    "\n",
    "ax[1].plot(task_df.index[50:], task_df[\"target_tau_1\"].iloc[50:], label=\"target_tau_1\")\n",
    "ax[1].plot(task_df.index[50:], task_df[\"measured_tau_1\"].iloc[50:], label=\"measured_tau_1\")\n",
    "ax[1].plot(task_df.index[50:], task_df[\"target_tau_2\"].iloc[50:], label=\"target_tau_2\")\n",
    "ax[1].plot(task_df.index[50:], task_df[\"measured_tau_2\"].iloc[50:], label=\"measured_tau_2\")\n",
    "ax[1].grid()\n",
    "ax[1].legend()\n",
    "ax[1].set_ylabel(\"Torque (Nm)\")\n",
    "\n",
    "ax[2].plot(task_df.index[50:], task_df[\"index\"].iloc[50:], label=\"STS %\")\n",
    "ax[2].grid()\n",
    "ax[2].legend()\n",
    "ax[2].set_ylabel(\"STS %\")\n",
    "ax[2].set_xlabel('time')"
   ]
  },
  {
   "cell_type": "code",
   "execution_count": null,
   "metadata": {},
   "outputs": [],
   "source": [
    "min_len = min(len(base_motor_df), len(elbow_motor_df))\n",
    "\n",
    "base_motor_df = base_motor_df.iloc[:min_len]\n",
    "elbow_motor_df = elbow_motor_df.iloc[:min_len]"
   ]
  },
  {
   "cell_type": "code",
   "execution_count": null,
   "metadata": {},
   "outputs": [],
   "source": [
    "l1 = 0.44\n",
    "l2 = 0.41\n",
    "\n",
    "theta_1 = base_motor_df[\"position\"].values\n",
    "theta_2 = elbow_motor_df[\"position\"].values\n",
    "\n",
    "P_EE = np.array([l1*np.cos(theta_1) + l2*np.cos(theta_1 + theta_2), l1*np.sin(theta_1) + l2*np.sin(theta_1 + theta_2)])\n",
    "\n",
    "hip_proxy = pd.DataFrame.from_dict({\"time\": base_motor_df.index, \"x\": P_EE[0, :], \"y\": P_EE[1, :]})"
   ]
  },
  {
   "cell_type": "code",
   "execution_count": null,
   "metadata": {},
   "outputs": [],
   "source": [
    "fig, axs = plt.subplots(2, 2, sharex=True, figsize=(20, 5))\n",
    "\n",
    "axs[0, 0].plot(base_motor_df.index, hip_proxy.y, label=\"pelvis Y\")\n",
    "axs[0, 0].grid()\n",
    "axs[0, 0].legend()\n",
    "\n",
    "axs[0, 1].plot(base_motor_df.index, theta_1, label=\"theta_1\")\n",
    "axs[0, 1].plot(base_motor_df.index, theta_2, label=\"theta_2\")\n",
    "axs[0, 1].grid()\n",
    "axs[0, 1].legend()\n",
    "\n",
    "axs[1, 0].plot(base_motor_df.index, base_motor_df.velocity, label=\"base velocity\")\n",
    "axs[1, 0].plot(elbow_motor_df.index, elbow_motor_df.velocity, label=\"elbow velocity\")\n",
    "axs[1, 0].grid()\n",
    "axs[1, 0].legend()\n",
    "\n",
    "axs[1, 1].plot(base_motor_df.index, base_motor_df.torque, label=\"base torque\")\n",
    "axs[1, 1].plot(elbow_motor_df.index, elbow_motor_df.torque, label=\"elbow torque\")\n",
    "axs[1, 1].grid()\n",
    "axs[1, 1].legend()"
   ]
  },
  {
   "cell_type": "code",
   "execution_count": null,
   "metadata": {},
   "outputs": [],
   "source": []
  },
  {
   "cell_type": "code",
   "execution_count": null,
   "metadata": {},
   "outputs": [],
   "source": []
  }
 ],
 "metadata": {
  "kernelspec": {
   "display_name": ".venv",
   "language": "python",
   "name": "python3"
  },
  "language_info": {
   "codemirror_mode": {
    "name": "ipython",
    "version": 3
   },
   "file_extension": ".py",
   "mimetype": "text/x-python",
   "name": "python",
   "nbconvert_exporter": "python",
   "pygments_lexer": "ipython3",
   "version": "3.10.14"
  }
 },
 "nbformat": 4,
 "nbformat_minor": 2
}
